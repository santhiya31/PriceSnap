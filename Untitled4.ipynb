{
  "nbformat": 4,
  "nbformat_minor": 0,
  "metadata": {
    "colab": {
      "provenance": [],
      "authorship_tag": "ABX9TyPj5jcuT236g/ed2Keiq3DE",
      "include_colab_link": true
    },
    "kernelspec": {
      "name": "python3",
      "display_name": "Python 3"
    },
    "language_info": {
      "name": "python"
    }
  },
  "cells": [
    {
      "cell_type": "markdown",
      "metadata": {
        "id": "view-in-github",
        "colab_type": "text"
      },
      "source": [
        "<a href=\"https://colab.research.google.com/github/santhiya31/PriceSnap/blob/main/Untitled4.ipynb\" target=\"_parent\"><img src=\"https://colab.research.google.com/assets/colab-badge.svg\" alt=\"Open In Colab\"/></a>"
      ]
    },
    {
      "cell_type": "code",
      "source": [
        "import pandas as pd\n",
        "\n",
        "\n",
        "amazon = pd.read_csv(\"/content/sample_data/amazon.csv\")\n",
        "flipkart = pd.read_csv(\"/content/sample_data/flipcart.csv\")\n",
        "nykaa = pd.read_csv(\"/content/sample_data/nykaa.csv\")\n",
        "\n",
        "amazon = amazon.rename(columns={\n",
        "    'name': 'name',\n",
        "    'price': 'price',\n",
        "    'rating': 'rating',\n",
        "    'product_links-href': 'product_link',\n",
        "    'image_url-src': 'image_url'\n",
        "})\n",
        "amazon['source'] = 'Amazon'\n",
        "\n",
        "flipkart = flipkart.rename(columns={\n",
        "    'name': 'name',\n",
        "    'price': 'price',\n",
        "    'rating': 'rating',\n",
        "    'product_links-href': 'product_link',\n",
        "    'image_url-src': 'image_url'\n",
        "})\n",
        "flipkart['source'] = 'Flipkart'\n",
        "\n",
        "nykaa = nykaa.rename(columns={\n",
        "    'name': 'name',\n",
        "    'price': 'price',\n",
        "    'rating': 'rating',\n",
        "    'product_links-href': 'product_link',\n",
        "    'image_url-src': 'image_url'\n",
        "})\n",
        "nykaa['source'] = 'Nykaa'\n",
        "\n",
        "\n",
        "all_products = pd.concat([amazon, flipkart, nykaa], ignore_index=True)\n",
        "\n",
        "\n",
        "all_products.to_csv(\"all_products.csv\", index=False)\n",
        "\n",
        "print(\"✅ Merged all product data into all_products.csv\")\n"
      ],
      "metadata": {
        "colab": {
          "base_uri": "https://localhost:8080/"
        },
        "id": "EjlPgWJqFFBX",
        "outputId": "b4cd7085-5eed-4105-8456-6d9f1e9ad3a3"
      },
      "execution_count": 1,
      "outputs": [
        {
          "output_type": "stream",
          "name": "stdout",
          "text": [
            "✅ Merged all product data into all_products.csv\n"
          ]
        }
      ]
    },
    {
      "cell_type": "code",
      "source": [
        "from google.colab import files\n",
        "files.download('all_products.csv')\n"
      ],
      "metadata": {
        "colab": {
          "base_uri": "https://localhost:8080/",
          "height": 17
        },
        "id": "1N60u1M-Fwtq",
        "outputId": "ee1dac05-ea2f-4a04-d28f-b45d0aed71b3"
      },
      "execution_count": 2,
      "outputs": [
        {
          "output_type": "display_data",
          "data": {
            "text/plain": [
              "<IPython.core.display.Javascript object>"
            ],
            "application/javascript": [
              "\n",
              "    async function download(id, filename, size) {\n",
              "      if (!google.colab.kernel.accessAllowed) {\n",
              "        return;\n",
              "      }\n",
              "      const div = document.createElement('div');\n",
              "      const label = document.createElement('label');\n",
              "      label.textContent = `Downloading \"${filename}\": `;\n",
              "      div.appendChild(label);\n",
              "      const progress = document.createElement('progress');\n",
              "      progress.max = size;\n",
              "      div.appendChild(progress);\n",
              "      document.body.appendChild(div);\n",
              "\n",
              "      const buffers = [];\n",
              "      let downloaded = 0;\n",
              "\n",
              "      const channel = await google.colab.kernel.comms.open(id);\n",
              "      // Send a message to notify the kernel that we're ready.\n",
              "      channel.send({})\n",
              "\n",
              "      for await (const message of channel.messages) {\n",
              "        // Send a message to notify the kernel that we're ready.\n",
              "        channel.send({})\n",
              "        if (message.buffers) {\n",
              "          for (const buffer of message.buffers) {\n",
              "            buffers.push(buffer);\n",
              "            downloaded += buffer.byteLength;\n",
              "            progress.value = downloaded;\n",
              "          }\n",
              "        }\n",
              "      }\n",
              "      const blob = new Blob(buffers, {type: 'application/binary'});\n",
              "      const a = document.createElement('a');\n",
              "      a.href = window.URL.createObjectURL(blob);\n",
              "      a.download = filename;\n",
              "      div.appendChild(a);\n",
              "      a.click();\n",
              "      div.remove();\n",
              "    }\n",
              "  "
            ]
          },
          "metadata": {}
        },
        {
          "output_type": "display_data",
          "data": {
            "text/plain": [
              "<IPython.core.display.Javascript object>"
            ],
            "application/javascript": [
              "download(\"download_afb9093a-cf4e-40c0-aee9-d5d28c010e64\", \"all_products.csv\", 54549)"
            ]
          },
          "metadata": {}
        }
      ]
    }
  ]
}